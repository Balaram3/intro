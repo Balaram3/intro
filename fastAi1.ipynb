{
  "nbformat": 4,
  "nbformat_minor": 0,
  "metadata": {
    "colab": {
      "name": "fastAi1.ipynb",
      "provenance": [],
      "collapsed_sections": [],
      "include_colab_link": true
    },
    "kernelspec": {
      "name": "python3",
      "display_name": "Python 3"
    },
    "accelerator": "GPU"
  },
  "cells": [
    {
      "cell_type": "markdown",
      "metadata": {
        "id": "view-in-github",
        "colab_type": "text"
      },
      "source": [
        "<a href=\"https://colab.research.google.com/github/Balaram3/intro/blob/one/fastAi1.ipynb\" target=\"_parent\"><img src=\"https://colab.research.google.com/assets/colab-badge.svg\" alt=\"Open In Colab\"/></a>"
      ]
    },
    {
      "cell_type": "code",
      "metadata": {
        "id": "sjX_3PjDQ_BR",
        "colab_type": "code",
        "colab": {}
      },
      "source": [
        "%matplotlib inline"
      ],
      "execution_count": 0,
      "outputs": []
    },
    {
      "cell_type": "code",
      "metadata": {
        "id": "diCPlZ7NYLjp",
        "colab_type": "code",
        "colab": {}
      },
      "source": [
        "from fastai import *\n",
        "from fastai.vision import *"
      ],
      "execution_count": 0,
      "outputs": []
    },
    {
      "cell_type": "code",
      "metadata": {
        "id": "sQ4ZGGEUYqsA",
        "colab_type": "code",
        "colab": {
          "base_uri": "https://localhost:8080/",
          "height": 119
        },
        "outputId": "39e86b09-66a1-442a-b570-33f524c36187"
      },
      "source": [
        "help(untar_data)\n",
        "path=untar_data(URLs.PETS)\n",
        "path"
      ],
      "execution_count": 17,
      "outputs": [
        {
          "output_type": "stream",
          "text": [
            "Help on function untar_data in module fastai.datasets:\n",
            "\n",
            "untar_data(url:str, fname:Union[pathlib.Path, str]=None, dest:Union[pathlib.Path, str]=None, data=True, force_download=False) -> pathlib.Path\n",
            "    Download `url` to `fname` if `dest` doesn't exist, and un-tgz to folder `dest`.\n",
            "\n"
          ],
          "name": "stdout"
        },
        {
          "output_type": "execute_result",
          "data": {
            "text/plain": [
              "PosixPath('/root/.fastai/data/oxford-iiit-pet')"
            ]
          },
          "metadata": {
            "tags": []
          },
          "execution_count": 17
        }
      ]
    },
    {
      "cell_type": "code",
      "metadata": {
        "id": "1b0_qEJModtA",
        "colab_type": "code",
        "colab": {
          "base_uri": "https://localhost:8080/",
          "height": 51
        },
        "outputId": "1dddf1e4-ee27-43bd-af63-5284510633a7"
      },
      "source": [
        "path.ls()"
      ],
      "execution_count": 18,
      "outputs": [
        {
          "output_type": "execute_result",
          "data": {
            "text/plain": [
              "[PosixPath('/root/.fastai/data/oxford-iiit-pet/annotations'),\n",
              " PosixPath('/root/.fastai/data/oxford-iiit-pet/images')]"
            ]
          },
          "metadata": {
            "tags": []
          },
          "execution_count": 18
        }
      ]
    },
    {
      "cell_type": "code",
      "metadata": {
        "id": "g6M-OCqIojLV",
        "colab_type": "code",
        "colab": {
          "base_uri": "https://localhost:8080/",
          "height": 119
        },
        "outputId": "bad24184-d6ed-4035-8c86-603b85dcc56e"
      },
      "source": [
        "path_annotations=path/'annotations'\n",
        "path_images=path/'images'\n",
        "fnames=get_image_files(path_images)\n",
        "fnames[:6]"
      ],
      "execution_count": 19,
      "outputs": [
        {
          "output_type": "execute_result",
          "data": {
            "text/plain": [
              "[PosixPath('/root/.fastai/data/oxford-iiit-pet/images/yorkshire_terrier_92.jpg'),\n",
              " PosixPath('/root/.fastai/data/oxford-iiit-pet/images/Birman_189.jpg'),\n",
              " PosixPath('/root/.fastai/data/oxford-iiit-pet/images/samoyed_101.jpg'),\n",
              " PosixPath('/root/.fastai/data/oxford-iiit-pet/images/beagle_202.jpg'),\n",
              " PosixPath('/root/.fastai/data/oxford-iiit-pet/images/scottish_terrier_198.jpg'),\n",
              " PosixPath('/root/.fastai/data/oxford-iiit-pet/images/Egyptian_Mau_16.jpg')]"
            ]
          },
          "metadata": {
            "tags": []
          },
          "execution_count": 19
        }
      ]
    },
    {
      "cell_type": "code",
      "metadata": {
        "id": "h6lhha31uDz_",
        "colab_type": "code",
        "colab": {
          "base_uri": "https://localhost:8080/",
          "height": 411
        },
        "outputId": "cc056d5d-86bc-4742-8610-e96ff3b1bb65"
      },
      "source": [
        "pat=r'/([^/]+)_\\d+.jpg$'\n",
        "data=ImageDataBunch.from_name_re(path_images,fnames,pat,ds_tfms=get_transforms())\n",
        "data.normalize(imagenet_stats)"
      ],
      "execution_count": 24,
      "outputs": [
        {
          "output_type": "stream",
          "text": [
            "You can deactivate this warning by passing `no_check=True`.\n"
          ],
          "name": "stdout"
        },
        {
          "output_type": "stream",
          "text": [
            "/usr/local/lib/python3.6/dist-packages/fastai/basic_data.py:271: UserWarning: It's not possible to collate samples of your dataset together in a batch.\n",
            "Shapes of the inputs/targets:\n",
            "[[torch.Size([3, 248, 300]), torch.Size([3, 377, 500]), torch.Size([3, 500, 334]), torch.Size([3, 375, 500]), torch.Size([3, 375, 500]), torch.Size([3, 500, 415]), torch.Size([3, 500, 334]), torch.Size([3, 375, 500]), torch.Size([3, 334, 500]), torch.Size([3, 500, 340]), torch.Size([3, 335, 500]), torch.Size([3, 500, 281]), torch.Size([3, 500, 333]), torch.Size([3, 375, 500]), torch.Size([3, 333, 500]), torch.Size([3, 376, 500]), torch.Size([3, 300, 224]), torch.Size([3, 375, 500]), torch.Size([3, 500, 357]), torch.Size([3, 500, 333]), torch.Size([3, 333, 500]), torch.Size([3, 408, 500]), torch.Size([3, 300, 200]), torch.Size([3, 225, 300]), torch.Size([3, 375, 500]), torch.Size([3, 290, 500]), torch.Size([3, 389, 500]), torch.Size([3, 240, 240]), torch.Size([3, 333, 500]), torch.Size([3, 333, 500]), torch.Size([3, 500, 334]), torch.Size([3, 500, 375]), torch.Size([3, 333, 500]), torch.Size([3, 375, 500]), torch.Size([3, 500, 334]), torch.Size([3, 333, 500]), torch.Size([3, 225, 300]), torch.Size([3, 539, 833]), torch.Size([3, 375, 500]), torch.Size([3, 500, 461]), torch.Size([3, 331, 500]), torch.Size([3, 500, 375]), torch.Size([3, 500, 357]), torch.Size([3, 500, 375]), torch.Size([3, 375, 500]), torch.Size([3, 336, 500]), torch.Size([3, 371, 500]), torch.Size([3, 334, 500]), torch.Size([3, 334, 500]), torch.Size([3, 375, 500]), torch.Size([3, 375, 500]), torch.Size([3, 375, 500]), torch.Size([3, 375, 500]), torch.Size([3, 375, 500]), torch.Size([3, 333, 500]), torch.Size([3, 333, 500]), torch.Size([3, 500, 375]), torch.Size([3, 500, 375]), torch.Size([3, 334, 500]), torch.Size([3, 375, 500]), torch.Size([3, 333, 500]), torch.Size([3, 236, 260]), torch.Size([3, 332, 500]), torch.Size([3, 333, 500])], [(), (), (), (), (), (), (), (), (), (), (), (), (), (), (), (), (), (), (), (), (), (), (), (), (), (), (), (), (), (), (), (), (), (), (), (), (), (), (), (), (), (), (), (), (), (), (), (), (), (), (), (), (), (), (), (), (), (), (), (), (), (), (), ()]]\n",
            "  warn(message)\n"
          ],
          "name": "stderr"
        },
        {
          "output_type": "execute_result",
          "data": {
            "text/plain": [
              "ImageDataBunch;\n",
              "\n",
              "Train: LabelList (5912 items)\n",
              "x: ImageList\n",
              "Image (3, 375, 500),Image (3, 333, 500),Image (3, 200, 241),Image (3, 333, 500),Image (3, 333, 500)\n",
              "y: CategoryList\n",
              "samoyed,beagle,Egyptian_Mau,basset_hound,great_pyrenees\n",
              "Path: /root/.fastai/data/oxford-iiit-pet/images;\n",
              "\n",
              "Valid: LabelList (1478 items)\n",
              "x: ImageList\n",
              "Image (3, 332, 500),Image (3, 281, 500),Image (3, 453, 500),Image (3, 800, 1280),Image (3, 333, 500)\n",
              "y: CategoryList\n",
              "Birman,chihuahua,great_pyrenees,Abyssinian,pug\n",
              "Path: /root/.fastai/data/oxford-iiit-pet/images;\n",
              "\n",
              "Test: None"
            ]
          },
          "metadata": {
            "tags": []
          },
          "execution_count": 24
        }
      ]
    },
    {
      "cell_type": "code",
      "metadata": {
        "id": "d33OKvy8u5_T",
        "colab_type": "code",
        "colab": {}
      },
      "source": [
        ""
      ],
      "execution_count": 0,
      "outputs": []
    }
  ]
}